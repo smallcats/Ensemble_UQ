{
  "nbformat": 4,
  "nbformat_minor": 0,
  "metadata": {
    "colab": {
      "name": "Neural_TLM_v2.ipynb",
      "provenance": [],
      "collapsed_sections": [],
      "include_colab_link": true
    },
    "kernelspec": {
      "name": "python3",
      "display_name": "Python 3"
    }
  },
  "cells": [
    {
      "cell_type": "markdown",
      "metadata": {
        "id": "view-in-github",
        "colab_type": "text"
      },
      "source": [
        "<a href=\"https://colab.research.google.com/github/smallcats/Ensemble_UQ/blob/master/Neural_TLM_v2.ipynb\" target=\"_parent\"><img src=\"https://colab.research.google.com/assets/colab-badge.svg\" alt=\"Open In Colab\"/></a>"
      ]
    },
    {
      "cell_type": "code",
      "metadata": {
        "id": "nTWYvbXC68CH",
        "colab_type": "code",
        "colab": {
          "base_uri": "https://localhost:8080/",
          "height": 35
        },
        "outputId": "9b33403f-fe90-469a-c6b2-82a8a848bc0d"
      },
      "source": [
        "%tensorflow_version 1.x\n",
        "\n",
        "import numpy as np\n",
        "import pandas as pd\n",
        "\n",
        "import nltk\n",
        "from nltk.corpus import stopwords\n",
        "import re\n",
        "\n",
        "from keras.layers import Input, Embedding, LSTM, Dense, Flatten, Lambda, Concatenate, Reshape, Dot\n",
        "from keras.models import Model\n",
        "import keras.backend as K\n",
        "from keras.callbacks import Callback\n",
        "\n",
        "from gensim.models import Word2Vec\n",
        "\n",
        "from matplotlib import pyplot as plt"
      ],
      "execution_count": 1,
      "outputs": [
        {
          "output_type": "stream",
          "text": [
            "Using TensorFlow backend.\n"
          ],
          "name": "stderr"
        }
      ]
    },
    {
      "cell_type": "code",
      "metadata": {
        "id": "WP5TY8t97Gk1",
        "colab_type": "code",
        "colab": {
          "base_uri": "https://localhost:8080/",
          "height": 121
        },
        "outputId": "56a94dd5-b9ec-4bf2-ca0e-bf737bc6b10c"
      },
      "source": [
        "nltk.download('gutenberg')\n",
        "nltk.download('punkt')\n",
        "nltk.download('stopwords')\n",
        "\n",
        "stopwords = stopwords.words('english')"
      ],
      "execution_count": 2,
      "outputs": [
        {
          "output_type": "stream",
          "text": [
            "[nltk_data] Downloading package gutenberg to /root/nltk_data...\n",
            "[nltk_data]   Unzipping corpora/gutenberg.zip.\n",
            "[nltk_data] Downloading package punkt to /root/nltk_data...\n",
            "[nltk_data]   Unzipping tokenizers/punkt.zip.\n",
            "[nltk_data] Downloading package stopwords to /root/nltk_data...\n",
            "[nltk_data]   Unzipping corpora/stopwords.zip.\n"
          ],
          "name": "stdout"
        }
      ]
    },
    {
      "cell_type": "code",
      "metadata": {
        "id": "d4z-eaM57HjV",
        "colab_type": "code",
        "colab": {
          "base_uri": "https://localhost:8080/",
          "height": 329
        },
        "outputId": "879bda4e-6534-482b-850e-ba784ada0b1f"
      },
      "source": [
        "nltk.corpus.gutenberg.fileids()"
      ],
      "execution_count": 3,
      "outputs": [
        {
          "output_type": "execute_result",
          "data": {
            "text/plain": [
              "['austen-emma.txt',\n",
              " 'austen-persuasion.txt',\n",
              " 'austen-sense.txt',\n",
              " 'bible-kjv.txt',\n",
              " 'blake-poems.txt',\n",
              " 'bryant-stories.txt',\n",
              " 'burgess-busterbrown.txt',\n",
              " 'carroll-alice.txt',\n",
              " 'chesterton-ball.txt',\n",
              " 'chesterton-brown.txt',\n",
              " 'chesterton-thursday.txt',\n",
              " 'edgeworth-parents.txt',\n",
              " 'melville-moby_dick.txt',\n",
              " 'milton-paradise.txt',\n",
              " 'shakespeare-caesar.txt',\n",
              " 'shakespeare-hamlet.txt',\n",
              " 'shakespeare-macbeth.txt',\n",
              " 'whitman-leaves.txt']"
            ]
          },
          "metadata": {
            "tags": []
          },
          "execution_count": 3
        }
      ]
    },
    {
      "cell_type": "code",
      "metadata": {
        "id": "sq8Cw9Ct7MyJ",
        "colab_type": "code",
        "colab": {
          "base_uri": "https://localhost:8080/",
          "height": 35
        },
        "outputId": "272bff13-5a17-4531-f89e-ca137b07647c"
      },
      "source": [
        "thurs = nltk.corpus.gutenberg.raw('chesterton-thursday.txt')\n",
        "leaves = nltk.corpus.gutenberg.raw('whitman-leaves.txt')\n",
        "len(thurs), len(leaves)"
      ],
      "execution_count": 4,
      "outputs": [
        {
          "output_type": "execute_result",
          "data": {
            "text/plain": [
              "(320525, 711215)"
            ]
          },
          "metadata": {
            "tags": []
          },
          "execution_count": 4
        }
      ]
    },
    {
      "cell_type": "code",
      "metadata": {
        "id": "RRgEYnfL8BYe",
        "colab_type": "code",
        "colab": {
          "base_uri": "https://localhost:8080/",
          "height": 35
        },
        "outputId": "dfbe1373-f589-41c2-c7a7-0de29d5cac51"
      },
      "source": [
        "thurs = thurs.split('\\n\\n')\n",
        "leaves = leaves.split('\\n\\n')\n",
        "len(thurs), len(leaves)"
      ],
      "execution_count": 5,
      "outputs": [
        {
          "output_type": "execute_result",
          "data": {
            "text/plain": [
              "(1304, 2867)"
            ]
          },
          "metadata": {
            "tags": []
          },
          "execution_count": 5
        }
      ]
    },
    {
      "cell_type": "code",
      "metadata": {
        "id": "aTUUBp5F8JRe",
        "colab_type": "code",
        "colab": {
          "base_uri": "https://localhost:8080/",
          "height": 265
        },
        "outputId": "a1ea9e2f-8225-4feb-a191-d196be835c38"
      },
      "source": [
        "plt.hist([len(d) for d in thurs], bins=np.linspace(0,1000,20), histtype='step')\n",
        "plt.hist([len(d) for d in leaves], bins=np.linspace(0,1000,20), histtype='step')\n",
        "plt.show()"
      ],
      "execution_count": 6,
      "outputs": [
        {
          "output_type": "display_data",
          "data": {
            "image/png": "[encoded data removed]",
            "text/plain": [
              "<Figure size 432x288 with 1 Axes>"
            ]
          },
          "metadata": {
            "tags": []
          }
        }
      ]
    },
    {
      "cell_type": "code",
      "metadata": {
        "id": "OHMfhNO48MBV",
        "colab_type": "code",
        "colab": {
          "base_uri": "https://localhost:8080/",
          "height": 265
        },
        "outputId": "3056baa0-9f41-4e4b-9533-f221bbb12a5d"
      },
      "source": [
        "plt.hist([len(d) for d in thurs if len(d)<200], bins=np.linspace(0,200,20), histtype='step')\n",
        "plt.hist([len(d) for d in leaves if len(d)<200], bins=np.linspace(0,200,20), histtype='step')\n",
        "plt.show()"
      ],
      "execution_count": 7,
      "outputs": [
        {
          "output_type": "display_data",
          "data": {
            "image/png": "[encoded data removed]",
            "text/plain": [
              "<Figure size 432x288 with 1 Axes>"
            ]
          },
          "metadata": {
            "tags": []
          }
        }
      ]
    },
    {
      "cell_type": "code",
      "metadata": {
        "id": "2te1F_gZ8QDo",
        "colab_type": "code",
        "colab": {
          "base_uri": "https://localhost:8080/",
          "height": 35
        },
        "outputId": "3b9ed0ef-b06f-418c-ae76-6b72de85edea"
      },
      "source": [
        "len([d for d in thurs if len(d)>50]), len([d for d in leaves if len(d)>50])"
      ],
      "execution_count": 8,
      "outputs": [
        {
          "output_type": "execute_result",
          "data": {
            "text/plain": [
              "(1084, 2054)"
            ]
          },
          "metadata": {
            "tags": []
          },
          "execution_count": 8
        }
      ]
    },
    {
      "cell_type": "code",
      "metadata": {
        "id": "MsWKSbWc8TvV",
        "colab_type": "code",
        "colab": {}
      },
      "source": [
        "texts = [d for d in thurs if len(d)>50]+[d for d in leaves if len(d)>50]"
      ],
      "execution_count": 0,
      "outputs": []
    },
    {
      "cell_type": "code",
      "metadata": {
        "id": "RTaaGkuo8rIZ",
        "colab_type": "code",
        "colab": {}
      },
      "source": [
        "texts = [' '.join(d.split()) for d in texts]\n",
        "texts = [d for d in texts if len(d)>50]"
      ],
      "execution_count": 0,
      "outputs": []
    },
    {
      "cell_type": "code",
      "metadata": {
        "id": "5mrLnAlr8yPL",
        "colab_type": "code",
        "colab": {
          "base_uri": "https://localhost:8080/",
          "height": 55
        },
        "outputId": "516f269b-5c55-436d-9ace-4a93fea0aa11"
      },
      "source": [
        "texts[10]"
      ],
      "execution_count": 11,
      "outputs": [
        {
          "output_type": "execute_result",
          "data": {
            "text/plain": [
              "\"The man with the meek blue eyes and the pale, pointed beard endured these thunders with a certain submissive solemnity. The third party of the group, Gregory's sister Rosamond, who had her brother's braids of red hair, but a kindlier face underneath them, laughed with such mixture of admiration and disapproval as she gave commonly to the family oracle.\""
            ]
          },
          "metadata": {
            "tags": []
          },
          "execution_count": 11
        }
      ]
    },
    {
      "cell_type": "code",
      "metadata": {
        "id": "r-TfLP3P84cQ",
        "colab_type": "code",
        "colab": {}
      },
      "source": [
        "sents = '\\n'.join(texts)\n",
        "sents = nltk.tokenize.sent_tokenize(sents)"
      ],
      "execution_count": 0,
      "outputs": []
    },
    {
      "cell_type": "code",
      "metadata": {
        "id": "4dMNjtnq85HH",
        "colab_type": "code",
        "colab": {}
      },
      "source": [
        "def doc2words(doc):\n",
        "  words = nltk.tokenize.word_tokenize(doc)\n",
        "  words = [w.lower() for w in words if w.isalpha()]\n",
        "  words = [w for w in words if (len(w)>1) and (w not in stopwords)]\n",
        "  return words"
      ],
      "execution_count": 0,
      "outputs": []
    },
    {
      "cell_type": "code",
      "metadata": {
        "id": "DXikDLMM87wU",
        "colab_type": "code",
        "colab": {}
      },
      "source": [
        "sents = [doc2words(s) for s in sents]\n",
        "sents = [s for s in sents if len(s)>0]"
      ],
      "execution_count": 0,
      "outputs": []
    },
    {
      "cell_type": "code",
      "metadata": {
        "id": "MCN8LPVL8_eP",
        "colab_type": "code",
        "colab": {}
      },
      "source": [
        "emb = Word2Vec(sents)"
      ],
      "execution_count": 0,
      "outputs": []
    },
    {
      "cell_type": "code",
      "metadata": {
        "id": "9aMbaP199B5e",
        "colab_type": "code",
        "colab": {
          "base_uri": "https://localhost:8080/",
          "height": 245
        },
        "outputId": "9cad9beb-24f5-4846-e406-28fe04da0c8e"
      },
      "source": [
        "emb.wv.similar_by_word('door')"
      ],
      "execution_count": 16,
      "outputs": [
        {
          "output_type": "stream",
          "text": [
            "/usr/local/lib/python3.6/dist-packages/gensim/matutils.py:737: FutureWarning: Conversion of the second argument of issubdtype from `int` to `np.signedinteger` is deprecated. In future, it will be treated as `np.int64 == np.dtype(int).type`.\n",
            "  if np.issubdtype(vec.dtype, np.int):\n"
          ],
          "name": "stderr"
        },
        {
          "output_type": "execute_result",
          "data": {
            "text/plain": [
              "[('last', 0.9998546838760376),\n",
              " ('long', 0.999847948551178),\n",
              " ('hands', 0.9998456239700317),\n",
              " ('upon', 0.9998453259468079),\n",
              " ('beautiful', 0.999845027923584),\n",
              " ('two', 0.9998424649238586),\n",
              " ('yet', 0.9998399019241333),\n",
              " ('moment', 0.9998371601104736),\n",
              " ('love', 0.999836802482605),\n",
              " ('high', 0.9998346567153931)]"
            ]
          },
          "metadata": {
            "tags": []
          },
          "execution_count": 16
        }
      ]
    },
    {
      "cell_type": "code",
      "metadata": {
        "id": "jqI-Ylrx9GId",
        "colab_type": "code",
        "colab": {}
      },
      "source": [
        "we = {w:emb.wv.get_vector(w) for w in emb.wv.vocab}\n",
        "vec_size = emb.vector_size"
      ],
      "execution_count": 0,
      "outputs": []
    },
    {
      "cell_type": "code",
      "metadata": {
        "id": "qJjpboC_9JI6",
        "colab_type": "code",
        "colab": {}
      },
      "source": [
        "def multiples(it, n):\n",
        "  for k in range(len(it)-n+1):\n",
        "    yield it[k:k+n]\n",
        "\n",
        "class TLMDataGen:\n",
        "  def __init__(self, documents, word_embedding, doc2words, lm_length, token2idx, vector_size,\n",
        "               valid_num=None, valid_frac=None, batch_size=20, valid_batch_size=100):\n",
        "    if valid_num is None and valid_frac is None:\n",
        "      if len(documents) < 1000:\n",
        "        valid_num = int(0.1*len(documents))\n",
        "      else:\n",
        "        valid_num = 100\n",
        "    elif valid_num is None:\n",
        "      valid_num = int(valid_frac*len(documents))\n",
        "\n",
        "    perm = np.random.permutation(len(documents))\n",
        "    self.train_idxs = perm[:valid_num]\n",
        "    self.valid_idxs = perm[valid_num:]\n",
        "\n",
        "    self.documents = documents\n",
        "    self.batch_size = batch_size\n",
        "    self.valid_batch_size = valid_batch_size\n",
        "    self.word_embedding = word_embedding\n",
        "    self.doc2words = doc2words\n",
        "    self.lm_length = lm_length\n",
        "    self.token2idx = token2idx\n",
        "    self.vector_size = vector_size\n",
        "\n",
        "  def get_train_batch(self):\n",
        "    doc_idxs = np.random.choice(self.train_idxs, size=self.batch_size)\n",
        "    docs = [self.documents[k] for k in doc_idxs]\n",
        "    finish_idxs = [np.random.randint(0, len(d)+1) for d in docs]\n",
        "    \n",
        "    x_topic = [np.array([self.word_embedding[w] for w in self.doc2words(d) if w in self.word_embedding]).mean(axis=0) for d in docs]\n",
        "    x_topic = [a if a.shape != () else np.zeros((self.vector_size,)) for a in x_topic]\n",
        "    x_topic = np.array(x_topic)\n",
        "\n",
        "    lm_docs = [d[max(i-self.lm_length,0):i] for i, d in zip(finish_idxs, docs)]\n",
        "    x_lm = np.array([[0]*(self.lm_length - len(d))+[self.token2idx.get(t,2) for t in d] for d in lm_docs])\n",
        "\n",
        "    y = np.array([self.token2idx.get(d[i],2) if i != len(d) else 1 for i,d in zip(finish_idxs, docs)])\n",
        "    \n",
        "    return [x_topic, x_lm], y\n",
        "\n",
        "  def get_valid_batch(self):\n",
        "    doc_idxs = np.random.choice(self.valid_idxs, size=self.valid_batch_size)\n",
        "    docs = [self.documents[k] for k in doc_idxs]\n",
        "    finish_idxs = [np.random.randint(0, len(d)+1) for d in docs]\n",
        "    \n",
        "    x_topic = [np.array([self.word_embedding[w] for w in self.doc2words(d) if w in self.word_embedding]).mean(axis=0) for d in docs]\n",
        "    x_topic = [a if a.shape != () else np.zeros((self.vector_size,)) for a in x_topic]\n",
        "    x_topic = np.array(x_topic)\n",
        "\n",
        "    lm_docs = [d[max(i-self.lm_length,0):i] for i, d in zip(finish_idxs, docs)]\n",
        "    x_lm = np.array([[0]*(self.lm_length - len(d))+[self.token2idx.get(t,2) for t in d] for d in lm_docs])\n",
        "\n",
        "    y = np.array([self.token2idx.get(d[i],2) if i != len(d) else 1 for i,d in zip(finish_idxs, docs)])\n",
        "    \n",
        "    return [x_topic, x_lm], y\n",
        "\n",
        "\n",
        "\n",
        "class TopicalLanguageModel:\n",
        "  \"\"\"\n",
        "  Neural Topical Language Model.\n",
        "\n",
        "  attributes:\n",
        "  num_topics :: int : number of topics\n",
        "  doc2words :: function : takes a document as a string and returns words\n",
        "  word_embedding :: dict : keys are words, values are vectors\n",
        "  vector_size :: int : the dimension of embedding vectors\n",
        "  lm_length :: int : length of tokens taken into account for character-level language models \n",
        "  \"\"\"\n",
        "  def __init__(self, num_topics, word_embedding, vector_size, doc2words, lm_length=30, tokens='abcdefghijklmnopqrstuvwxyz '):\n",
        "    self.num_topics = num_topics\n",
        "    self.doc2words = doc2words\n",
        "    self.word_embedding = word_embedding\n",
        "    self.vector_size = vector_size\n",
        "    self.lm_length = lm_length\n",
        "\n",
        "    self.tokens = ['<', '>', '*'] + list(tokens)\n",
        "    token_idx = [(t, k+3) for k,t in enumerate(list(tokens))] # 0 = start, 1 = end, 2 = unknown\n",
        "    self.token2idx = {t:k for t,k in token_idx}\n",
        "    self.idx2token = {k:t for t,k in token_idx}\n",
        "\n",
        "    self.num_tokens = len(tokens)+3\n",
        "\n",
        "  def fit(self, documents, batch_size=20, epochs=10, verbose=0, examples_per_epoch=5, example_epoch_skip=1, num_validation_samples=5):\n",
        "    \"\"\"\n",
        "    fit(self, documents)\n",
        "\n",
        "    documents should be a list of sentences, and a sentence a list of words.\n",
        "    \"\"\"\n",
        "    x_topic = Input(shape=(self.vector_size,))\n",
        "    h_topic = Dense(self.vector_size, activation='relu')(x_topic)\n",
        "    out_topic = Dense(self.num_topics, activation='softmax')(h_topic)\n",
        "    self.topic_model = Model(inputs=[x_topic], outputs=out_topic)\n",
        "    \n",
        "    self.language_models = []\n",
        "    for k in range(self.num_topics):\n",
        "      x_lm = Input(shape=(self.lm_length,), dtype='int32')\n",
        "      h_lm = Embedding(input_dim=self.num_tokens, output_dim=self.num_tokens//2, input_length=self.lm_length)(x_lm)\n",
        "      h_lm = LSTM(self.num_tokens)(h_lm)\n",
        "      out_lm = Dense(self.num_tokens, activation='softmax')(h_lm)\n",
        "      lm = Model(inputs=[x_lm], outputs=out_lm)\n",
        "      self.language_models.append(lm)\n",
        "\n",
        "    train_topic_input = Input(shape=(self.vector_size,))\n",
        "    train_lm_input = Input(shape=(self.lm_length,), dtype='int32')\n",
        "\n",
        "    lm_outputs = [Reshape(target_shape=(self.num_tokens, 1))(lm(train_lm_input)) for lm in self.language_models]\n",
        "    lm_outputs = Concatenate(axis=2)(lm_outputs)\n",
        "    topic_mix = self.topic_model(train_topic_input)\n",
        "\n",
        "    out = Dot(axes=(2, 1), name='mixed_out')([lm_outputs, topic_mix])\n",
        "\n",
        "    self.train_model = Model(inputs=[train_topic_input, train_lm_input], outputs=[out, topic_mix])\n",
        "\n",
        "    def mix_loss(y_true, y_pred):\n",
        "      eps = 1e-10\n",
        "      mean = K.mean(y_pred, axis=0)\n",
        "\n",
        "      mean_nentropy = K.mean(K.sum(y_pred*K.log(y_pred+eps), axis=1))\n",
        "      nentropy_mean = K.sum(mean*K.log(mean+eps))\n",
        "      return nentropy_mean - mean_nentropy\n",
        "      \n",
        "\n",
        "    self.train_model.compile('adam', ['sparse_categorical_crossentropy', mix_loss])\n",
        "\n",
        "    data_generator = TLMDataGen(documents, word_embedding=self.word_embedding, \n",
        "                                doc2words=self.doc2words, \n",
        "                                lm_length=self.lm_length, \n",
        "                                token2idx=self.token2idx,\n",
        "                                vector_size=self.vector_size,\n",
        "                                batch_size = batch_size)\n",
        "\n",
        "    steps_per_epoch = len(documents)//batch_size\n",
        "    self.logs = {'examples':[], 'val_loss':[], 'topic_fraction':[], 'topic_entropy':[]}\n",
        "    for epoch in range(epochs+1):\n",
        "\n",
        "      #examples\n",
        "      if epoch%example_epoch_skip == 0:\n",
        "        if verbose>1:\n",
        "          print('Getting examples')\n",
        "        for t in range(self.num_topics):\n",
        "          for k in range(examples_per_epoch):\n",
        "            self.logs['examples'].append((self.rollout('', topic=t, maxlen=100), t, epoch))\n",
        "\n",
        "      #validation loss\n",
        "      if verbose>1:\n",
        "        print('Running validation loss')\n",
        "      losses = [self.train_model.test_on_batch(*(data_generator.get_valid_batch())) for k in range(num_validation_samples)]\n",
        "      self.logs['val_loss'].append(losses)\n",
        "\n",
        "      #topics\n",
        "      if verbose>1:\n",
        "        print('Getting topic distributions')\n",
        "      xs, y = data_generator.get_valid_batch()\n",
        "      x = xs[0]\n",
        "      topics = self.topic_model.predict(x)\n",
        "      entropies = (-topics*np.log(topics)).sum(axis=1)\n",
        "      mean_entropy = entropies.mean(axis=0)\n",
        "      std_entropy = entropies.std(axis=0)\n",
        "      mean_topics = topics.mean(axis=0)\n",
        "      self.logs['topic_fraction'].append(mean_topics)\n",
        "      self.logs['topic_entropy'].append((mean_entropy, std_entropy))\n",
        "\n",
        "      if epoch<epochs:\n",
        "        #train\n",
        "        if verbose>1:\n",
        "          print('Training')\n",
        "        avg_loss = 0\n",
        "        for step in range(steps_per_epoch):\n",
        "          xs, y = data_generator.get_train_batch()\n",
        "          avg_loss = (step/(step+1))*avg_loss + self.train_model.train_on_batch(xs, y)/(step+1)\n",
        "        #print\n",
        "        if verbose > 0:\n",
        "          print('Epoch {0} - Avg train loss: {1}'.format(epoch, avg_loss))\n",
        "      \n",
        "  def predict(self, init_doc, topic, method='sample'):\n",
        "    idx_doc = [self.token2idx.get(c,2) for c in init_doc]\n",
        "    dlen = len(idx_doc)\n",
        "    if dlen < self.lm_length:\n",
        "      idx_doc = [0]*(self.lm_length-dlen)+idx_doc\n",
        "    elif dlen > self.lm_length:\n",
        "      idx_doc = idx_doc[-self.lm_length:]\n",
        "\n",
        "    probs = self.language_models[topic].predict(np.array(idx_doc).reshape((1,-1)))[0]\n",
        "\n",
        "    if method == 'sample':\n",
        "      return np.random.choice(self.tokens, p=probs)\n",
        "\n",
        "    elif method == 'max':\n",
        "      return self.tokens[np.argmax(probs)]\n",
        "\n",
        "    elif method == 'distribution':\n",
        "      return probs\n",
        "\n",
        "    else:\n",
        "      raise ValueError('Unknown method.')\n",
        "\n",
        "  def rollout(self, init_doc, topic, method='monte-carlo', maxlen=100):\n",
        "    pred_method = 'sample' if method=='monte-carlo' else 'max' if method=='greedy' else ''\n",
        "    \n",
        "    for k in range(maxlen-len(init_doc)):\n",
        "      predicted = self.predict(init_doc, topic, pred_method)\n",
        "      if predicted == '>': break\n",
        "      init_doc = init_doc + predicted\n",
        "\n",
        "    return init_doc\n",
        "\n",
        "  def get_topics(self, doc):\n",
        "    words = self.doc2words(doc)\n",
        "    embedding = np.array([self.word_embedding[w] for w in words if w in self.word_embedding]).mean(axis=0)\n",
        "    return self.topic_model.predict(embedding.reshape((-1,1)))[0]"
      ],
      "execution_count": 0,
      "outputs": []
    },
    {
      "cell_type": "code",
      "metadata": {
        "id": "GiVd-Kz9G05J",
        "colab_type": "code",
        "colab": {
          "base_uri": "https://localhost:8080/",
          "height": 483
        },
        "outputId": "60c785e2-5c78-4411-bb93-afeff1cd282b"
      },
      "source": [
        "eps = 1e-10\n",
        "x = np.linspace(0,1,1000)\n",
        "plt.plot(x, -(x*np.log(x+eps)+(1-x)*np.log(1-x+eps)))\n",
        "plt.gcf().set_size_inches(10,8)\n",
        "plt.show()"
      ],
      "execution_count": 30,
      "outputs": [
        {
          "output_type": "display_data",
          "data": {
            "image/png": "[encoded data removed]",
            "text/plain": [
              "<Figure size 720x576 with 1 Axes>"
            ]
          },
          "metadata": {
            "tags": []
          }
        }
      ]
    },
    {
      "cell_type": "code",
      "metadata": {
        "id": "Qp_HNWNg9fFF",
        "colab_type": "code",
        "colab": {}
      },
      "source": [
        "K.clear_session()\n",
        "tlm = TopicalLanguageModel(num_topics=2, word_embedding=we, vector_size=vec_size, doc2words=doc2words)"
      ],
      "execution_count": 0,
      "outputs": []
    },
    {
      "cell_type": "code",
      "metadata": {
        "id": "Hs_GjUIs9kZV",
        "colab_type": "code",
        "colab": {}
      },
      "source": [
        "tlm.fit(texts, epochs=1000, verbose=1, example_epoch_skip=100)"
      ],
      "execution_count": 0,
      "outputs": []
    },
    {
      "cell_type": "code",
      "metadata": {
        "id": "m45cd8An9lAi",
        "colab_type": "code",
        "colab": {}
      },
      "source": [
        "tlm.logs.keys()"
      ],
      "execution_count": 0,
      "outputs": []
    },
    {
      "cell_type": "code",
      "metadata": {
        "id": "SZYGuFeC9lUe",
        "colab_type": "code",
        "colab": {}
      },
      "source": [
        "pd.set_option('display.max_colwidth', -1)\n",
        "ex = pd.DataFrame(columns=['example', 'topic_num', 'epoch'], data=tlm.logs['examples'])\n",
        "ex.sample(10).sort_values('epoch')"
      ],
      "execution_count": 0,
      "outputs": []
    },
    {
      "cell_type": "code",
      "metadata": {
        "id": "OgnBZEQg9l74",
        "colab_type": "code",
        "colab": {}
      },
      "source": [
        "mean_losses = [np.array(v).mean() for v in tlm.logs['val_loss']]\n",
        "max_losses = [np.array(v).max() for v in tlm.logs['val_loss']]\n",
        "min_losses = [np.array(v).min() for v in tlm.logs['val_loss']]\n",
        "epoch = np.arange(len(mean_losses))\n",
        "\n",
        "fig, ax = plt.subplots()\n",
        "ax.plot(epoch, mean_losses, color='b')\n",
        "ax.fill_between(epoch, max_losses, min_losses, color='b', alpha=0.3)\n",
        "ax.set_xlabel('Epoch')\n",
        "ax.set_ylabel('Loss')\n",
        "\n",
        "fig.set_size_inches(12,6)\n",
        "plt.title('validation loss - max, mean, min')\n",
        "\n",
        "plt.show()"
      ],
      "execution_count": 0,
      "outputs": []
    },
    {
      "cell_type": "code",
      "metadata": {
        "id": "jIj0eHx79mLi",
        "colab_type": "code",
        "colab": {}
      },
      "source": [
        "epoch = np.arange(len(tlm.logs['topic_entropy']))\n",
        "\n",
        "fig, ax_mean = plt.subplots()\n",
        "ax_mean.stackplot(epoch, np.array(tlm.logs['topic_fraction']).T)\n",
        "ax_mean.set_xlabel('Epoch')\n",
        "ax_mean.set_ylabel('Topic Balance')\n",
        "\n",
        "ax_ent = ax_mean.twinx()\n",
        "topic_entropy = [e[0] for e in tlm.logs['topic_entropy']]\n",
        "max_topic_entropy = [(-p*np.log(p)).sum() for p in tlm.logs['topic_fraction']]\n",
        "frac_topic_entropy = [e/m for e,m in zip(topic_entropy, max_topic_entropy)]\n",
        "ax_ent.plot(epoch, frac_topic_entropy, color='k')\n",
        "ax_ent.set_ylabel('Topic entropy/max topic entropy (for given topic balance)')\n",
        "ax_ent.set_ylim(0,1.05)\n",
        "\n",
        "fig.set_size_inches(12,6)\n",
        "fig.tight_layout()\n",
        "plt.title('topic balance estimates - max, mean, min')\n",
        "\n",
        "plt.show()"
      ],
      "execution_count": 0,
      "outputs": []
    },
    {
      "cell_type": "code",
      "metadata": {
        "id": "4jX66AJ29mfm",
        "colab_type": "code",
        "colab": {}
      },
      "source": [
        ""
      ],
      "execution_count": 0,
      "outputs": []
    }
  ]
}